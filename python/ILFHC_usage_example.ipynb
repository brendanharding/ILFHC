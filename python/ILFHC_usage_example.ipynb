{
 "cells": [
  {
   "cell_type": "markdown",
   "metadata": {},
   "source": [
    "### Demonstration of basic usage of the LiftForceHelperClass\n",
    "\n",
    "This notebook demonstrates some very basic usage of the \n",
    "Inertial Lift Force Helper Class (or ILFHC for short).\n",
    "The class methods are themselves documented via ```help(InertialLiftForceHelper)```.\n",
    "\n",
    "Note: use of the helper class requires the following files \n",
    "to be located relative to the working directory:\n",
    " - 'curved_duct_lift_data/square_lift_data.npz'  \n",
    " - 'curved_duct_lift_data/rect_2x1_lift_data.npz' \n",
    " - 'curved_duct_lift_data/rect_4x1_lift_data.npz' \n",
    "\n",
    "Please ensure you cite our JFM paper (https://doi.org/10.1017/jfm.2019.323) \n",
    "if you use this code/data. This code is provided under an MIT license \n",
    "(see https://opensource.org/licenses/MIT). However, I would appreciate it\n",
    "if you contact me and to let me know if you use this code/data.\n",
    "Please also don't hesitate to contact me if you have any questions/queries.\n",
    "\n",
    "Brendan Harding, 2019."
   ]
  },
  {
   "cell_type": "code",
   "execution_count": 1,
   "metadata": {},
   "outputs": [],
   "source": [
    "# Initialise matplotlib for notebook plotting\n",
    "import matplotlib.pyplot as plt\n",
    "%matplotlib notebook"
   ]
  },
  {
   "cell_type": "code",
   "execution_count": 2,
   "metadata": {},
   "outputs": [],
   "source": [
    "# Import the helper class\n",
    "from ILFHC import InertialLiftForceHelper"
   ]
  },
  {
   "cell_type": "code",
   "execution_count": 3,
   "metadata": {},
   "outputs": [],
   "source": [
    "# Initialise an instance for a neutrally buoyant\n",
    "# particle with radius a=0.10 within a duct having \n",
    "# bend radius R=80.0 and a square cross-section.\n",
    "ILFH = InertialLiftForceHelper(0.10,80.0,'square')"
   ]
  },
  {
   "cell_type": "code",
   "execution_count": 4,
   "metadata": {},
   "outputs": [
    {
     "name": "stdout",
     "output_type": "stream",
     "text": [
      "[1.73320364e+01 4.46957430e-04]\n"
     ]
    }
   ],
   "source": [
    "# Print an estimate of the migration force at the \n",
    "# centre of the cross-section (includes both the \n",
    "# inertial lift and secondary flow contributions)\n",
    "print(ILFH.migration_force(0.0,0.0))"
   ]
  },
  {
   "cell_type": "code",
   "execution_count": 5,
   "metadata": {},
   "outputs": [
    {
     "data": {
      "image/png": "[encoded data removed]",
      "text/plain": [
       "<Figure size 288x216 with 2 Axes>"
      ]
     },
     "metadata": {
      "needs_background": "light"
     },
     "output_type": "display_data"
    }
   ],
   "source": [
    "# Generate a plot of the migration force\n",
    "ILFH.plot_migration_force()"
   ]
  },
  {
   "cell_type": "code",
   "execution_count": 6,
   "metadata": {
    "scrolled": false
   },
   "outputs": [
    {
     "name": "stdout",
     "output_type": "stream",
     "text": [
      "Help on class InertialLiftForceHelper in module ILFHC:\n",
      "\n",
      "class InertialLiftForceHelper(builtins.object)\n",
      " |  InertialLiftForceHelper(a, R, cs='square')\n",
      " |  \n",
      " |  This class helps with parsing/utilising computed inertial lift  \n",
      " |  force and migration data for a neutrally buoyant spherical  \n",
      " |  particle suspended in flow through curved ducts having a  \n",
      " |  square or rectangular (with aspect ratio 2:1 or 4:1) cross-section.\n",
      " |  \n",
      " |  The class will interpolate the raw data for a desired bend radius of\n",
      " |  the duct. Interpolation of particle size is not currently supported.\n",
      " |  As such one must pick a particle size matching the provided data.\n",
      " |      \n",
      " |  Note: use of this helper class requires the files \n",
      " |  'curved_duct_lift_data/square_lift_data.npz'  \n",
      " |  'curved_duct_lift_data/rect_2x1_lift_data.npz' \n",
      " |  'curved_duct_lift_data/rect_4x1_lift_data.npz' \n",
      " |  to be located relative to the working directory.\n",
      " |  \n",
      " |  Please ensure you cite our JFM paper (https://doi.org/10.1017/jfm.2019.323) \n",
      " |  if you use this code/data. This code is provided under an MIT license \n",
      " |  (see https://opensource.org/licenses/MIT). However, I would appreciate it\n",
      " |  if you contact me and to let me know if you use this code/data.\n",
      " |  Please also don't hesitate to contact me if you have any questions/queries.\n",
      " |  \n",
      " |  Brendan Harding, 2019.\n",
      " |  \n",
      " |  Methods defined here:\n",
      " |  \n",
      " |  __init__(self, a, R, cs='square')\n",
      " |      Initialise the helper class for a given particle radius (a) and bend radius (R).\n",
      " |      Both a and R should be read as being relative to half of the duct height, \n",
      " |      i.e. read a as 2a/H and R as 2R/H (H being the duct height).\n",
      " |      The cs argument specifies cross-section shape: 'square' for a square \n",
      " |      cross-section, or 'rect_2x1' for a rectangular duct (having aspect ratio 2),\n",
      " |      or 'rect_4x1' for a rectangular duct (having aspect ratio 4).\n",
      " |      (Data for additional cross-sections may be added in the future)\n",
      " |  \n",
      " |  axial_velocity(self, r, z)\n",
      " |      Get the terminal/steady axial velocity of a neutrally buoyant \n",
      " |      spherical particle centred at (r,z) within the cross-section\n",
      " |      (non-dimensionalised via U_m a / H )\n",
      " |  \n",
      " |  drag_coefficient(self, r, z)\n",
      " |      Get the drag coefficients in the r,z directions of a neutrally buoyant\n",
      " |      spherical particle centred at (r,z) within the cross-section\n",
      " |      (non-dimensionalised via mu a )\n",
      " |  \n",
      " |  get_R(self)\n",
      " |      Get the current bend radius\n",
      " |  \n",
      " |  get_a(self)\n",
      " |      Get the current particle radius\n",
      " |  \n",
      " |  get_available_a(self)\n",
      " |      Get a list of available particle radii\n",
      " |  \n",
      " |  get_bounds(self)\n",
      " |      Get the bounds of the current cross-section \n",
      " |      (given in the form [r_min,r_max,z_min,z_max])\n",
      " |  \n",
      " |  get_cross_section(self)\n",
      " |      Get the current cross-section\n",
      " |  \n",
      " |  get_particle_bounds(self)\n",
      " |      Get the bounds for the particle centre in the current \n",
      " |      cross-section (given in the form [r_min,r_max,z_min,z_max])\n",
      " |  \n",
      " |  migration_force(self, r, z)\n",
      " |      Get the (net) migration force for a neutrally buoyant\n",
      " |      spherical particle centred at (r,z) within the cross-section\n",
      " |      (non-dimensionalised via rho U_m^2 a^4 / H^2 )\n",
      " |  \n",
      " |  migration_velocity(self, r, z)\n",
      " |      Get the migration velocity for a neutrally buoyant\n",
      " |      spherical particle centred at (r,z) within the cross-section\n",
      " |      (non-dimensionalised via U_m a / H )\n",
      " |  \n",
      " |  plot_migration_force(self)\n",
      " |      Produces a rough sketch of the magnitude of the migration force including\n",
      " |      the zero contours of the horizontal and vertical components.\n",
      " |  \n",
      " |  secondary_flow_drag(self, r, z)\n",
      " |      Get the drag coefficients in the r,z directions of a neutrally buoyant\n",
      " |      spherical particle centred at (r,z) within the cross-section\n",
      " |      (non-dimensionalised via rho U_m^2 a^4 / H^2 )\n",
      " |  \n",
      " |  set_R(self, R)\n",
      " |      Change the bend radius of the duct (and update the interpolants)\n",
      " |  \n",
      " |  set_a(self, a)\n",
      " |      Change the particle radius (and update the interpolants)\n",
      " |  \n",
      " |  set_cross_section(self, cs)\n",
      " |      Change the cross-section (and update the interpolants)\n",
      " |  \n",
      " |  spin_components(self, r, z)\n",
      " |      Get the terminal/steady r,z spin components of a neutrally buoyant \n",
      " |      spherical particle centred at (r,z) within the cross-section\n",
      " |      (non-dimensionalised via U_m / H )\n",
      " |  \n",
      " |  ----------------------------------------------------------------------\n",
      " |  Data descriptors defined here:\n",
      " |  \n",
      " |  __dict__\n",
      " |      dictionary for instance variables (if defined)\n",
      " |  \n",
      " |  __weakref__\n",
      " |      list of weak references to the object (if defined)\n",
      "\n"
     ]
    }
   ],
   "source": [
    "# Print the documentation for the class\n",
    "# (including a description of the methods/functions available)\n",
    "help(InertialLiftForceHelper) # or help(ILFH)"
   ]
  },
  {
   "cell_type": "code",
   "execution_count": null,
   "metadata": {},
   "outputs": [],
   "source": []
  },
  {
   "cell_type": "code",
   "execution_count": null,
   "metadata": {},
   "outputs": [],
   "source": []
  },
  {
   "cell_type": "code",
   "execution_count": null,
   "metadata": {},
   "outputs": [],
   "source": []
  },
  {
   "cell_type": "code",
   "execution_count": null,
   "metadata": {},
   "outputs": [],
   "source": []
  }
 ],
 "metadata": {
  "kernelspec": {
   "display_name": "Python 3",
   "language": "python",
   "name": "python3"
  },
  "language_info": {
   "codemirror_mode": {
    "name": "ipython",
    "version": 3
   },
   "file_extension": ".py",
   "mimetype": "text/x-python",
   "name": "python",
   "nbconvert_exporter": "python",
   "pygments_lexer": "ipython3",
   "version": "3.7.3"
  }
 },
 "nbformat": 4,
 "nbformat_minor": 2
}
